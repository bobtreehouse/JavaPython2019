{
 "cells": [
  {
   "cell_type": "code",
   "execution_count": 5,
   "metadata": {},
   "outputs": [
    {
     "name": "stdout",
     "output_type": "stream",
     "text": [
      "NYC Sun Aug 18, 2019: 02:52:39:PM \n",
      "GMT Sun Aug 18, 2019: 06:52:39:PM \n",
      "UTC Sun Aug 18, 2019: 06:52:39:PM \n",
      "LDN Sun Aug 18, 2019: 07:52:39:PM \n",
      "ZUR Sun Aug 18, 2019: 08:52:39:PM \n",
      "China Mon Aug 19, 2019: 02:52:39:AM \n",
      "HK Mon Aug 19, 2019: 02:52:39:AM \n",
      "Tokyo Mon Aug 19, 2019: 03:52:39:AM \n",
      "SYD Mon Aug 19, 2019: 04:52:39:AM \n",
      "NZ Mon Aug 19, 2019: 06:52:39:AM \n"
     ]
    }
   ],
   "source": [
    "import sys\n",
    "import os\n",
    "from tkinter import *\n",
    "import time\n",
    "import datetime\n",
    "import pytz\n",
    "from time import gmtime\n",
    "from datetime import timedelta\n",
    "one_hour = timedelta(hours=+1)\n",
    "tz = pytz.timezone('US/Eastern')\n",
    "altzone = time.altzone\n",
    "\n",
    "dt_Japan = datetime.datetime.now(tz=pytz.timezone('Japan'))\n",
    "dt_UCT = datetime.datetime.now(tz=pytz.timezone('UCT'))\n",
    "dt_NYC = datetime.datetime.now(tz=pytz.timezone('US/Eastern'))\n",
    "dt_GMT = datetime.datetime.now(tz=pytz.timezone('GMT'))\n",
    "dt_UTC = datetime.datetime.now(tz=pytz.timezone('UTC'))\n",
    "dt_LDN = datetime.datetime.now(tz=pytz.timezone('Europe/London'))\n",
    "dt_NZ = datetime.datetime.now(tz=pytz.timezone('NZ'))\n",
    "dt_SYD = datetime.datetime.now(tz=pytz.timezone('Australia/Sydney'))\n",
    "dt_HK = datetime.datetime.now(tz=pytz.timezone('Hongkong'))\n",
    "dt_CNH = datetime.datetime.now(tz=pytz.timezone('Asia/Shanghai'))\n",
    "dt_ZUR = datetime.datetime.now(tz=pytz.timezone('Europe/Zurich'))\n",
    "\n",
    "print(\"NYC\", dt_NYC.strftime('%a %b %d, %Y: %I:%M:%S:%p '))\n",
    "print(\"GMT\", dt_GMT.strftime('%a %b %d, %Y: %I:%M:%S:%p '))\n",
    "print(\"UTC\", dt_UTC.strftime('%a %b %d, %Y: %I:%M:%S:%p '))\n",
    "print(\"LDN\", dt_LDN.strftime('%a %b %d, %Y: %I:%M:%S:%p '))\n",
    "print(\"ZUR\", dt_ZUR.strftime('%a %b %d, %Y: %I:%M:%S:%p '))\n",
    "print(\"China\", dt_CNH.strftime('%a %b %d, %Y: %I:%M:%S:%p '))\n",
    "print(\"HK\", dt_HK.strftime('%a %b %d, %Y: %I:%M:%S:%p '))\n",
    "print(\"Tokyo\", dt_Japan.strftime('%a %b %d, %Y: %I:%M:%S:%p '))\n",
    "print(\"SYD\", dt_SYD.strftime('%a %b %d, %Y: %I:%M:%S:%p '))\n",
    "print(\"NZ\", dt_NZ.strftime('%a %b %d, %Y: %I:%M:%S:%p '))"
   ]
  },
  {
   "cell_type": "code",
   "execution_count": null,
   "metadata": {},
   "outputs": [],
   "source": []
  },
  {
   "cell_type": "code",
   "execution_count": null,
   "metadata": {},
   "outputs": [],
   "source": []
  }
 ],
 "metadata": {
  "kernelspec": {
   "display_name": "Python 3",
   "language": "python",
   "name": "python3"
  },
  "language_info": {
   "codemirror_mode": {
    "name": "ipython",
    "version": 3
   },
   "file_extension": ".py",
   "mimetype": "text/x-python",
   "name": "python",
   "nbconvert_exporter": "python",
   "pygments_lexer": "ipython3",
   "version": "3.7.0"
  }
 },
 "nbformat": 4,
 "nbformat_minor": 2
}
